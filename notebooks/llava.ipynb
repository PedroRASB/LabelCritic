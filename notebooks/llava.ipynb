{
 "cells": [
  {
   "cell_type": "code",
   "execution_count": 51,
   "metadata": {},
   "outputs": [
    {
     "name": "stdout",
     "output_type": "stream",
     "text": [
      "The image I am sending is frontal projections of one CT scan, focusing on showing the bone. Look at it carefully, and answer the questions below:\n",
      "\n",
      "Q1- Which bones are on the top of the image? Bones are on its bottom?\n",
      "Q2- Which of the following landmarks are present in the image? Answer ‘yes’ or ‘no’ using the template below, substituting _ by Yes or No:\n",
      "skull = _ neck = _ trachea = _ribs = _ lumbar spine = _ pelvis = _ femurs = _ \n",
      "Q3- Considering these landmarks and the bones on the image top and bottom, give me a complete list of all organs (not bones) usually contained within this image limits (just list their names).\n",
      "Q4- Based on your answer to Q3, is the kidneys usually present within this image limits? Answer ‘yes’ or ‘no’ using the template below, substituting  _ by Yes or No:\n",
      "Q4 = _\n",
      "********************************************************************************\n",
      "The image I am sending is a frontal projection of a CT scan. It is not a CT slice, we have transparency and can see through the entire body, like a X-ray. The left side of the image represents the right side of the human body. The kidneys region in the image should be marked in red, using an overlay. However, I am not sure if the red overlay correctly or incorrectly marks the kidneys. Please following these instructions:\n",
      "\n",
      "1. Check if the red region is coherent with the expected shape and location of a kidneys.Show your reasoning in the answer.\n",
      "2. After checking, you should give an final judge in the end of your answer, substituting _ by Good or Bad:\n",
      "Annotation = _\n"
     ]
    }
   ],
   "source": [
    "def step_1_q(organ):\n",
    "    return (\n",
    "        \"The image I am sending is frontal projections of one CT scan, focusing on showing the bone. \"\n",
    "        \"Look at it carefully, and answer the questions below:\\n\\n\"\n",
    "        \"Q1- Which bones are on the top of the image? Bones are on its bottom?\\n\"\n",
    "        \"Q2- Which of the following landmarks are present in the image? Answer ‘yes’ or ‘no’ using the template below, substituting _ by Yes or No:\\n\"\n",
    "        \"skull = _ \"\n",
    "        \"neck = _ \"\n",
    "        \"trachea = \"\n",
    "        \"_ribs = _ \"\n",
    "        \"lumbar spine = _ \"\n",
    "        \"pelvis = _ \"\n",
    "        \"femurs = _ \\n\"\n",
    "        \"Q3- Considering these landmarks and the bones on the image top and bottom, \"\n",
    "        \"give me a complete list of all organs (not bones) usually contained within this image \"\n",
    "        \"limits (just list their names).\\n\"\n",
    "        f\"Q4- Based on your answer to Q3, is the {organ} usually present within this image limits? \"\n",
    "        \"Answer ‘yes’ or ‘no’ using the template below, substituting  _ by Yes or No:\\n\"\n",
    "        \"Q4 = _\"\n",
    "    )\n",
    "\n",
    "def step_2_q(organ):\n",
    "    return (\n",
    "        \"The image I am sending is a frontal projection of a CT scan. \"\n",
    "        \"It is not a CT slice, we have transparency and can see through the entire body, \"\n",
    "        \"like a X-ray. The left side of the image represents the right side of the human body. \"\n",
    "        f\"The {organ} region in the image should be marked in red, \"\n",
    "        \"using an overlay. However, I am not sure if the red overlay correctly \"\n",
    "        f\"or incorrectly marks the {organ}. Please following these instructions:\\n\\n\"\n",
    "        f\"1. Check if the red region is coherent with the expected shape and location of a {organ}.\"\n",
    "        \"Show your reasoning in the answer.\\n\"\n",
    "        \"2. After checking, you should give an final judge in the end of your answer, substituting _ by Good or Bad:\\n\"\n",
    "        \"Annotation = _\"\n",
    "    )\n",
    "    \n",
    "\n",
    "print(step_1_q(\"kidneys\"))\n",
    "print(\"*\" * 80)\n",
    "print(step_2_q(\"kidneys\"))"
   ]
  },
  {
   "cell_type": "markdown",
   "metadata": {},
   "source": [
    "## 1. Load the model"
   ]
  },
  {
   "cell_type": "code",
   "execution_count": 2,
   "metadata": {},
   "outputs": [
    {
     "data": {
      "application/vnd.jupyter.widget-view+json": {
       "model_id": "58b528ad2f6b4b66949ee5eabe7532a5",
       "version_major": 2,
       "version_minor": 0
      },
      "text/plain": [
       "Loading checkpoint shards:   0%|          | 0/4 [00:00<?, ?it/s]"
      ]
     },
     "metadata": {},
     "output_type": "display_data"
    }
   ],
   "source": [
    "from transformers import LlavaNextProcessor, LlavaNextForConditionalGeneration\n",
    "import torch\n",
    "from PIL import Image\n",
    "\n",
    "device = \"cuda:2\"\n",
    "model_path = '/mnt/sdh/qwu59/ckpts/llava-v1.6-mistral-7b-hf'\n",
    "\n",
    "processor = LlavaNextProcessor.from_pretrained(model_path)\n",
    "model = LlavaNextForConditionalGeneration.from_pretrained(model_path, torch_dtype=torch.float16, low_cpu_mem_usage=True) \n",
    "model = model.to(device)"
   ]
  },
  {
   "cell_type": "markdown",
   "metadata": {},
   "source": [
    "## 2. Test for single prompt"
   ]
  },
  {
   "cell_type": "code",
   "execution_count": 30,
   "metadata": {},
   "outputs": [],
   "source": [
    "def inference(image_path, question, device, mute=True):\n",
    "    image = Image.open(image_path)\n",
    "    conversation = [\n",
    "        {\n",
    "          \"role\": \"user\",\n",
    "          \"content\": [\n",
    "              {\"type\": \"text\", \"text\": question},\n",
    "              {\"type\": \"image\"},\n",
    "            ],\n",
    "        },\n",
    "    ]\n",
    "    prompt = processor.apply_chat_template(conversation, add_generation_prompt=True)\n",
    "    inputs = processor(images=image, text=prompt, return_tensors=\"pt\").to(device)\n",
    "\n",
    "    # autoregressively complete prompt\n",
    "    output = model.generate(**inputs, max_new_tokens=256)\n",
    "    answer = processor.decode(output[0], skip_special_tokens=True).split(\"[/INST]\")[1].strip()\n",
    "\n",
    "    if not mute:\n",
    "        print(\"*\" * 80)\n",
    "        print(\"Question:\")\n",
    "        print(question)\n",
    "        print(\"=\" * 50)\n",
    "        print(\"Answer:\")\n",
    "        print(answer)\n",
    "        print(\"*\" * 80)\n",
    "    \n",
    "    return answer"
   ]
  },
  {
   "cell_type": "code",
   "execution_count": 47,
   "metadata": {},
   "outputs": [
    {
     "data": {
      "text/plain": [
       "'no'"
      ]
     },
     "execution_count": 47,
     "metadata": {},
     "output_type": "execute_result"
    }
   ],
   "source": [
    "import nibabel as nib\n",
    "import numpy as np\n",
    "import os\n",
    "\n",
    "def check_step1(answer):\n",
    "    try:\n",
    "        judge = answer.split(\"Q4\")[1].lower()\n",
    "        return \"present\" if \"yes\" in judge else \"no\"\n",
    "    except:\n",
    "        return \"no\"\n",
    "\n",
    "def check_step2(answer):\n",
    "    try:\n",
    "        judge = answer.split(\"Annotation\")[1].lower()\n",
    "        return \"Correct\" if \"good\" in judge else \"Incorrect\"\n",
    "    except:\n",
    "        return \"Incorrect\"\n",
    "    \n",
    "def check_step1_label(case, organ, path=\"/mnt/T9/AbdomenAtlasPro\"):\n",
    "    if organ == \"kidneys\":\n",
    "        temp1 = nib.load(os.path.join(path, case, \"segmentations\", \"kidney_left.nii.gz\")).get_fdata()\n",
    "        temp2 = nib.load(os.path.join(path, case, \"segmentations\", \"kidney_right.nii.gz\")).get_fdata()\n",
    "        temp = temp1 + temp2\n",
    "        # temp = np.maximum(temp1, temp2)\n",
    "    else:\n",
    "        temp = nib.load(os.path.join(path, case, \"segmentations\", f\"{organ}.nii.gz\")).get_fdata()\n",
    "    # check whether is all zero\n",
    "    return \"no\" if np.all(temp == 0) else \"present\"\n",
    "\n",
    "check_step1_label(\"BDMAP_00000055\", \"_endometrioma_tumor\")"
   ]
  },
  {
   "cell_type": "code",
   "execution_count": 57,
   "metadata": {},
   "outputs": [],
   "source": [
    "task1 = {\n",
    "    \"file\": \"bad_labels_AbdomenAtlasBeta.json\",\n",
    "    \"part\": \"errors_beta_full\",\n",
    "    \"path\": \"/mnt/sdc/pedro/ErrorDetection/errors_beta_full\",\n",
    "    \"label2\": \"Incorrect\",\n",
    "}\n",
    "task2 = {\n",
    "    \"file\": \"bad_labels_nnUnet.json\",\n",
    "    \"part\": \"errors_nnUnet_full\",\n",
    "    \"path\": \"/mnt/sdc/pedro/ErrorDetection/errors_nnUnet_full\",\n",
    "    \"label2\": \"Incorrect\",\n",
    "}\n",
    "task3 = {\n",
    "    \"file\": \"good_labels_AbdomenAtlasBeta.json\",\n",
    "    \"part\": \"good_labels_beta_full\",\n",
    "    \"path\": \"/mnt/sdc/pedro/ErrorDetection/good_labels_beta_full\",\n",
    "    \"label2\": \"Correct\",\n",
    "}\n",
    "\n",
    "def get_one_result(task, case, organ):\n",
    "    question1 = step_1_q(organ)\n",
    "    question2 = step_2_q(organ)\n",
    "    try:\n",
    "        image1_path = os.path.join(task[\"path\"], organ, f\"{case}_ct_window_bone_axis_1.png\")\n",
    "        answer1 = inference(image1_path, question1, device)\n",
    "    except:\n",
    "        image1_path = os.path.join(task[\"path\"], organ, f\"{case}_ct_window_bone_axis_1_{organ}.png\")\n",
    "        answer1 = inference(image1_path, question1, device)\n",
    "    image2_path = os.path.join(task[\"path\"], organ, f\"{case}_overlay_window_bone_axis_1_{organ}_y1.png\")\n",
    "    answer2 = inference(image2_path, question2, device)\n",
    "    judge1 = check_step1(answer1)\n",
    "    judge2 = check_step2(answer2)\n",
    "    label1 = check_step1_label(\"BDMAP_00000055\", organ)\n",
    "    label2 = task[\"label2\"]\n",
    "    \n",
    "    task_raw = {\n",
    "        \"sample\": case,\n",
    "        \"organ\": organ,\n",
    "        \"part\": task[\"part\"],\n",
    "        \"question1\": question1,\n",
    "        \"answer1\": answer1,\n",
    "        \"question2\": question2,\n",
    "        \"answer2\": answer2,\n",
    "    }\n",
    "    task_single = {\n",
    "        \"sample\": case,\n",
    "        \"organ\": organ,\n",
    "        \"part\": task[\"part\"],\n",
    "        \"result step 1\": judge1,\n",
    "        \"label step 1\": label1,\n",
    "        \"result step 2\": judge2,\n",
    "        \"label step 2\": label2,\n",
    "    }\n",
    "    return task_raw, task_single"
   ]
  },
  {
   "cell_type": "code",
   "execution_count": 56,
   "metadata": {},
   "outputs": [
    {
     "name": "stderr",
     "output_type": "stream",
     "text": [
      "Setting `pad_token_id` to `eos_token_id`:None for open-end generation.\n",
      "Setting `pad_token_id` to `eos_token_id`:None for open-end generation.\n"
     ]
    },
    {
     "name": "stdout",
     "output_type": "stream",
     "text": [
      "{'sample': 'BDMAP_00000055', 'organ': 'kidneys', 'part': 'good_labels_beta_full', 'result step 1': 'present', 'label step 1': 'present', 'result step 2': 'Correct', 'label step 2': 'Correct'}\n"
     ]
    }
   ],
   "source": [
    "task = task3\n",
    "task_path = task[\"path\"]\n",
    "case = \"BDMAP_00000055\"\n",
    "organ = \"kidneys\"\n",
    "raw, single = get_one_result(task, case, organ)\n",
    "# print(raw)\n",
    "print(single)"
   ]
  },
  {
   "cell_type": "markdown",
   "metadata": {},
   "source": [
    "## 3. Organize the data in json format"
   ]
  },
  {
   "cell_type": "markdown",
   "metadata": {},
   "source": [
    "Check the src folder."
   ]
  }
 ],
 "metadata": {
  "kernelspec": {
   "display_name": "Python 3",
   "language": "python",
   "name": "python3"
  },
  "language_info": {
   "codemirror_mode": {
    "name": "ipython",
    "version": 3
   },
   "file_extension": ".py",
   "mimetype": "text/x-python",
   "name": "python",
   "nbconvert_exporter": "python",
   "pygments_lexer": "ipython3",
   "version": "3.9.19"
  }
 },
 "nbformat": 4,
 "nbformat_minor": 2
}
